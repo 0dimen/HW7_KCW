{
 "cells": [
  {
   "cell_type": "code",
   "execution_count": 17,
   "metadata": {},
   "outputs": [
    {
     "name": "stdout",
     "output_type": "stream",
     "text": [
      "doc1= 0.58\n",
      "doc2= 0.87\n",
      "doc3= 0.67\n"
     ]
    }
   ],
   "source": [
    "import numpy as np\n",
    "\n",
    "# docs data 3개\n",
    "# |Doc_i| -> nomalization\n",
    "# Dot product\n",
    "# 소수점 2째자리 까지 출력\n",
    "\n",
    "if __name__ == '__main__':\n",
    "    Docs = np.matrix([[1,1,0,1,0,1], [1,1,1,0,1,0],[1,1,0,1,0,0]])\n",
    "    Query = np.array([1,1,0,0,1,0])\n",
    "    \n",
    "    for i in range(0,3):\n",
    "        similarity = np.dot(Docs[i], Query)/(np.linalg.norm(Docs[i])*np.linalg.norm(Query))\n",
    "        print(\"doc%d= %.2f\" %(i+1, similarity))"
   ]
  },
  {
   "cell_type": "code",
   "execution_count": null,
   "metadata": {},
   "outputs": [],
   "source": []
  },
  {
   "cell_type": "code",
   "execution_count": null,
   "metadata": {},
   "outputs": [],
   "source": []
  }
 ],
 "metadata": {
  "kernelspec": {
   "display_name": "Python 3",
   "language": "python",
   "name": "python3"
  },
  "language_info": {
   "codemirror_mode": {
    "name": "ipython",
    "version": 3
   },
   "file_extension": ".py",
   "mimetype": "text/x-python",
   "name": "python",
   "nbconvert_exporter": "python",
   "pygments_lexer": "ipython3",
   "version": "3.8.5"
  }
 },
 "nbformat": 4,
 "nbformat_minor": 4
}
