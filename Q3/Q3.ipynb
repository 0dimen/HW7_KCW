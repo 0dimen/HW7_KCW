{
 "cells": [
  {
   "cell_type": "code",
   "execution_count": 28,
   "metadata": {},
   "outputs": [
    {
     "name": "stdout",
     "output_type": "stream",
     "text": [
      "unit price & number\n",
      "--------------------------\n",
      "        unit price  number\n",
      "store1        1000      25\n",
      "store2         280     120\n",
      "store3         900      30\n",
      "\n",
      "\n",
      "total price\n",
      "--------------------------\n",
      "        total price\n",
      "store1        25000\n",
      "store2        33600\n",
      "store3        27000\n",
      "\n",
      "\n",
      "Most expensive total\n",
      "--------------------------\n",
      "        total price\n",
      "store2        33600\n",
      "store3        27000\n"
     ]
    }
   ],
   "source": [
    "import pandas as pd\n",
    "\n",
    "if __name__ == '__main__':\n",
    "    \n",
    "    \n",
    "    values = [[1000,25], [280,120], [900,30]]\n",
    "    index = ['store1', 'store2', 'store3']\n",
    "    columns = ['unit price', 'number']\n",
    "    \n",
    "    df = pd.DataFrame(values, index = index, columns= columns)\n",
    "    print(\"unit price & number\")\n",
    "    print(\"-\"*26)\n",
    "    print(df)\n",
    "    \n",
    "    \n",
    "    value = df['unit price'].mul(df['number'].transpose())\n",
    "    totalPrice = pd.DataFrame(value, index = index, columns = ['total price'])\n",
    "    print(\"\\n\\ntotal price\")\n",
    "    print(\"-\"*26)\n",
    "    print(totalPrice)\n",
    "    \n",
    "    print(\"\\n\\nMost expensive total\")\n",
    "    print(\"-\"*26)\n",
    "    print(totalPrice.sort_values('total price', ascending=False)[:2])\n",
    "    "
   ]
  },
  {
   "cell_type": "code",
   "execution_count": null,
   "metadata": {},
   "outputs": [],
   "source": []
  }
 ],
 "metadata": {
  "kernelspec": {
   "display_name": "Python 3",
   "language": "python",
   "name": "python3"
  },
  "language_info": {
   "codemirror_mode": {
    "name": "ipython",
    "version": 3
   },
   "file_extension": ".py",
   "mimetype": "text/x-python",
   "name": "python",
   "nbconvert_exporter": "python",
   "pygments_lexer": "ipython3",
   "version": "3.8.5"
  }
 },
 "nbformat": 4,
 "nbformat_minor": 4
}
