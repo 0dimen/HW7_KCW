{
 "cells": [
  {
   "cell_type": "code",
   "execution_count": 16,
   "metadata": {},
   "outputs": [
    {
     "name": "stdout",
     "output_type": "stream",
     "text": [
      "Eigenvalues:  [-0.37228132  5.37228132]\n",
      "Eigenvector:  [[-0.82456484 -0.41597356]\n",
      " [ 0.56576746 -0.90937671]]\n",
      "Determinant:  -2.0000000000000004\n",
      "Cross product:  [[-3  6 -3]]\n",
      "Solution:  [[-1.]\n",
      " [-4.]\n",
      " [ 3.]]\n"
     ]
    }
   ],
   "source": [
    "import numpy as np\n",
    "\n",
    "# numpy Array로.\n",
    "# 1. eigenvalues, eigenvector function 사용\n",
    "# 2. 2개의 cross function 함수 사용\n",
    "# 3. x가 뭔지 구하기. google 검색.\n",
    "\n",
    "if __name__ == '__main__':\n",
    "    eig = np.linalg.eig\n",
    "    arr = np.matrix([[1,2],[3,4]])\n",
    "    \n",
    "    value = eig(arr)[0]\n",
    "    vector = eig(arr)[1]\n",
    "    \n",
    "    print(\"Eigenvalues: \" , value)\n",
    "    print(\"Eigenvector: \", vector)\n",
    "    print(\"Determinant: \", np.linalg.det(arr))\n",
    "    \n",
    "    vec1 = np.matrix([1,2,3])\n",
    "    vec2 = np.matrix([4,5,6])\n",
    "    \n",
    "    print(\"Cross product: \", np.cross(vec1, vec2))\n",
    "    \n",
    "    \n",
    "    A = np.matrix([[1,2,-2], [2,1,-5], [1,-4,1]])\n",
    "    b = np.matrix([[-15], [-21], [18]])\n",
    "    print(\"Solution: \",np.linalg.solve(A,b))\n",
    "    "
   ]
  },
  {
   "cell_type": "code",
   "execution_count": null,
   "metadata": {},
   "outputs": [],
   "source": []
  }
 ],
 "metadata": {
  "kernelspec": {
   "display_name": "Python 3",
   "language": "python",
   "name": "python3"
  },
  "language_info": {
   "codemirror_mode": {
    "name": "ipython",
    "version": 3
   },
   "file_extension": ".py",
   "mimetype": "text/x-python",
   "name": "python",
   "nbconvert_exporter": "python",
   "pygments_lexer": "ipython3",
   "version": "3.8.5"
  }
 },
 "nbformat": 4,
 "nbformat_minor": 4
}
